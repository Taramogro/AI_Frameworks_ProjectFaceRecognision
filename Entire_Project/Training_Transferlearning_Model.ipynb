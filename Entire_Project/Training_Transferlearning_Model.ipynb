{
 "cells": [
  {
   "cell_type": "code",
   "execution_count": 11,
   "metadata": {},
   "outputs": [],
   "source": [
    "import os\n",
    "from PIL import Image\n",
    "from tqdm import tqdm\n",
    "import splitfolders\n",
    "\n",
    "from tensorflow.keras.preprocessing.image import ImageDataGenerator\n",
    "from keras_facenet import FaceNet\n",
    "from tensorflow.keras.layers import Dense, Dropout, Flatten\n",
    "from tensorflow.keras.models import Model\n",
    "from tensorflow.keras.callbacks import ReduceLROnPlateau, EarlyStopping\n",
    "import json"
   ]
  },
  {
   "cell_type": "code",
   "execution_count": 12,
   "metadata": {},
   "outputs": [],
   "source": [
    "input_dir = \"Cropped_50\"\n",
    "output_dir = \"Cropped_50_Resized_160\""
   ]
  },
  {
   "cell_type": "code",
   "execution_count": 13,
   "metadata": {},
   "outputs": [],
   "source": [
    "def resize_with_padding(input_dir, output_dir, target_size=(160, 160)):\n",
    "    os.makedirs(output_dir, exist_ok=True)\n",
    "\n",
    "    for root, _, files in os.walk(input_dir):\n",
    "        for file in tqdm(files, desc=f\"Processing images in {root}\"):\n",
    "            try:\n",
    "                input_path = os.path.join(root, file)\n",
    "                output_subdir = os.path.join(output_dir, os.path.relpath(root, input_dir))\n",
    "                os.makedirs(output_subdir, exist_ok=True)\n",
    "\n",
    "                output_path = os.path.join(output_subdir, file)\n",
    "\n",
    "                with Image.open(input_path) as img:\n",
    "                    img = img.convert(\"RGB\")\n",
    "\n",
    "                    if img.width < target_size[0] and img.height < target_size[1]:\n",
    "                        scale_factor = min(\n",
    "                            target_size[0] / img.width,\n",
    "                            target_size[1] / img.height\n",
    "                        )\n",
    "                        new_width = int(img.width * scale_factor)\n",
    "                        new_height = int(img.height * scale_factor)\n",
    "                        img = img.resize((new_width, new_height), Image.Resampling.LANCZOS)\n",
    "\n",
    "                    else:\n",
    "                        img.thumbnail(target_size, Image.Resampling.LANCZOS)\n",
    "\n",
    "                    new_img = Image.new(\"RGB\", target_size, (0, 0, 0))\n",
    "\n",
    "                    offset_x = (target_size[0] - img.width) // 2\n",
    "                    offset_y = (target_size[1] - img.height) // 2\n",
    "                    new_img.paste(img, (offset_x, offset_y))\n",
    "\n",
    "                    new_img.save(output_path)\n",
    "\n",
    "            except Exception as e:\n",
    "                print(f\"Error processing file {file}: {e}\")"
   ]
  },
  {
   "cell_type": "code",
   "execution_count": 14,
   "metadata": {},
   "outputs": [
    {
     "name": "stderr",
     "output_type": "stream",
     "text": [
      "Processing images in Cropped_50: 0it [00:00, ?it/s]\n",
      "Processing images in Cropped_50\\Akif: 100%|██████████| 54/54 [00:00<00:00, 77.16it/s]\n",
      "Processing images in Cropped_50\\Alper: 100%|██████████| 54/54 [00:00<00:00, 121.75it/s]\n",
      "Processing images in Cropped_50\\Bart: 100%|██████████| 54/54 [00:00<00:00, 84.14it/s] \n",
      "Processing images in Cropped_50\\Daiane: 100%|██████████| 53/53 [00:00<00:00, 131.48it/s]\n",
      "Processing images in Cropped_50\\Florian: 100%|██████████| 54/54 [00:00<00:00, 113.94it/s]\n",
      "Processing images in Cropped_50\\Konrad: 100%|██████████| 54/54 [00:00<00:00, 91.87it/s] \n",
      "Processing images in Cropped_50\\Lasse: 100%|██████████| 54/54 [00:00<00:00, 76.20it/s] \n",
      "Processing images in Cropped_50\\Matthias: 100%|██████████| 54/54 [00:00<00:00, 102.56it/s]\n",
      "Processing images in Cropped_50\\Michiel: 100%|██████████| 54/54 [00:00<00:00, 158.90it/s]\n",
      "Processing images in Cropped_50\\Nelli: 100%|██████████| 48/48 [00:00<00:00, 156.82it/s]\n",
      "Processing images in Cropped_50\\Raul: 100%|██████████| 54/54 [00:00<00:00, 162.10it/s]\n",
      "Processing images in Cropped_50\\Senne: 100%|██████████| 54/54 [00:00<00:00, 77.10it/s] \n",
      "Processing images in Cropped_50\\Seppe: 100%|██████████| 54/54 [00:00<00:00, 142.27it/s]\n",
      "Processing images in Cropped_50\\Youssef: 100%|██████████| 54/54 [00:00<00:00, 134.72it/s]\n"
     ]
    }
   ],
   "source": [
    "resize_with_padding(input_dir, output_dir)"
   ]
  },
  {
   "cell_type": "code",
   "execution_count": 15,
   "metadata": {},
   "outputs": [
    {
     "name": "stderr",
     "output_type": "stream",
     "text": [
      "Copying files: 749 files [00:00, 1153.49 files/s]"
     ]
    },
    {
     "name": "stdout",
     "output_type": "stream",
     "text": [
      "Dataset split into training and validation sets.\n"
     ]
    },
    {
     "name": "stderr",
     "output_type": "stream",
     "text": [
      "\n"
     ]
    }
   ],
   "source": [
    "dataset_dir = \"Cropped_50_Resized_160\"\n",
    "output_dir = \"train_val_split\"\n",
    "\n",
    "splitfolders.ratio(dataset_dir, output=output_dir, seed=42, ratio=(0.8, 0.2), group_prefix=None)\n",
    "\n",
    "print(\"Dataset split into training and validation sets.\")"
   ]
  },
  {
   "cell_type": "code",
   "execution_count": 16,
   "metadata": {},
   "outputs": [
    {
     "name": "stdout",
     "output_type": "stream",
     "text": [
      "Found 596 images belonging to 14 classes.\n",
      "Found 153 images belonging to 14 classes.\n"
     ]
    }
   ],
   "source": [
    "train_dir = \"train_val_split/train\"\n",
    "val_dir = \"train_val_split/val\"\n",
    "\n",
    "train_datagen = ImageDataGenerator(rescale=1.0/255, rotation_range=20, zoom_range=0.2)\n",
    "val_datagen = ImageDataGenerator(rescale=1.0/255)\n",
    "\n",
    "train_generator = train_datagen.flow_from_directory(\n",
    "    train_dir, target_size=(160, 160), batch_size=32, class_mode='categorical'\n",
    ")\n",
    "val_generator = val_datagen.flow_from_directory(\n",
    "    val_dir, target_size=(160, 160), batch_size=32, class_mode='categorical'\n",
    ")"
   ]
  },
  {
   "cell_type": "code",
   "execution_count": 29,
   "metadata": {},
   "outputs": [],
   "source": [
    "facenet = FaceNet()\n",
    "\n",
    "base_model = facenet.model\n",
    "\n",
    "num_classes = len(train_generator.class_indices)\n",
    "\n",
    "for layer in base_model.layers:\n",
    "    layer.trainable = False\n",
    "\n",
    "x = base_model.output\n",
    "x = Flatten()(x)\n",
    "x = Dense(256, activation='relu')(x)\n",
    "x = Dropout(0.5)(x)\n",
    "output = Dense(num_classes, activation='softmax')(x)\n",
    "\n",
    "fine_tuned_model = Model(inputs=base_model.input, outputs=output)\n",
    "\n",
    "fine_tuned_model.compile(\n",
    "    optimizer='adam',\n",
    "    loss='categorical_crossentropy',\n",
    "    metrics=['accuracy']\n",
    ")"
   ]
  },
  {
   "cell_type": "code",
   "execution_count": 30,
   "metadata": {},
   "outputs": [
    {
     "name": "stdout",
     "output_type": "stream",
     "text": [
      "Epoch 1/10\n",
      "19/19 [==============================] - 20s 650ms/step - loss: 2.4347 - accuracy: 0.6174 - val_loss: 2.1281 - val_accuracy: 0.9673 - lr: 0.0010\n",
      "Epoch 2/10\n",
      "19/19 [==============================] - 10s 522ms/step - loss: 1.8754 - accuracy: 0.9228 - val_loss: 1.5023 - val_accuracy: 0.9739 - lr: 0.0010\n",
      "Epoch 3/10\n",
      "19/19 [==============================] - 11s 579ms/step - loss: 1.2743 - accuracy: 0.9295 - val_loss: 0.9091 - val_accuracy: 0.9804 - lr: 0.0010\n",
      "Epoch 4/10\n",
      "19/19 [==============================] - 9s 469ms/step - loss: 0.7999 - accuracy: 0.9480 - val_loss: 0.5248 - val_accuracy: 0.9869 - lr: 0.0010\n",
      "Epoch 5/10\n",
      "19/19 [==============================] - 10s 527ms/step - loss: 0.5512 - accuracy: 0.9396 - val_loss: 0.3333 - val_accuracy: 0.9869 - lr: 0.0010\n",
      "Epoch 6/10\n",
      "19/19 [==============================] - 10s 546ms/step - loss: 0.3951 - accuracy: 0.9513 - val_loss: 0.2397 - val_accuracy: 0.9869 - lr: 0.0010\n",
      "Epoch 7/10\n",
      "19/19 [==============================] - 11s 559ms/step - loss: 0.3212 - accuracy: 0.9614 - val_loss: 0.1824 - val_accuracy: 0.9804 - lr: 0.0010\n",
      "Epoch 8/10\n",
      "19/19 [==============================] - 10s 501ms/step - loss: 0.2718 - accuracy: 0.9480 - val_loss: 0.1490 - val_accuracy: 0.9869 - lr: 0.0010\n",
      "Epoch 9/10\n",
      "19/19 [==============================] - 10s 527ms/step - loss: 0.2515 - accuracy: 0.9530 - val_loss: 0.1275 - val_accuracy: 0.9869 - lr: 0.0010\n",
      "Epoch 10/10\n",
      "19/19 [==============================] - 10s 519ms/step - loss: 0.2193 - accuracy: 0.9664 - val_loss: 0.1113 - val_accuracy: 0.9869 - lr: 0.0010\n"
     ]
    },
    {
     "data": {
      "text/plain": [
       "<tf_keras.src.callbacks.History at 0x17f72cef320>"
      ]
     },
     "execution_count": 30,
     "metadata": {},
     "output_type": "execute_result"
    }
   ],
   "source": [
    "fine_tuned_model.fit(\n",
    "    train_generator,\n",
    "    validation_data=val_generator,\n",
    "    epochs=10,\n",
    "    steps_per_epoch=len(train_generator),\n",
    "    validation_steps=len(val_generator),\n",
    "    callbacks = [\n",
    "    ReduceLROnPlateau(monitor='val_loss', factor=0.5, patience=5),\n",
    "    EarlyStopping(monitor='val_loss', patience=10, restore_best_weights=True)\n",
    "    ]\n",
    ")"
   ]
  },
  {
   "cell_type": "code",
   "execution_count": 33,
   "metadata": {},
   "outputs": [],
   "source": [
    "fine_tuned_model.save_weights('fine_tuned_model_weights.h5')"
   ]
  }
 ],
 "metadata": {
  "kernelspec": {
   "display_name": ".venv",
   "language": "python",
   "name": "python3"
  },
  "language_info": {
   "codemirror_mode": {
    "name": "ipython",
    "version": 3
   },
   "file_extension": ".py",
   "mimetype": "text/x-python",
   "name": "python",
   "nbconvert_exporter": "python",
   "pygments_lexer": "ipython3",
   "version": "3.12.2"
  }
 },
 "nbformat": 4,
 "nbformat_minor": 2
}
